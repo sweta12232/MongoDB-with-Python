{
 "cells": [
  {
   "cell_type": "code",
   "execution_count": 9,
   "id": "1c4fbbf4-66d4-4f43-910d-8dc86d505691",
   "metadata": {},
   "outputs": [],
   "source": [
    "import pymongo"
   ]
  },
  {
   "cell_type": "code",
   "execution_count": 10,
   "id": "993a1480-4f75-4bff-af17-3a4f51406ea0",
   "metadata": {},
   "outputs": [],
   "source": [
    "new_client = pymongo.MongoClient('mongodb://localhost:27017/')"
   ]
  },
  {
   "cell_type": "code",
   "execution_count": 11,
   "id": "b8d62349-6ea7-4b5a-966f-ade8fdff28a9",
   "metadata": {},
   "outputs": [],
   "source": [
    "new_db = new_client['new_data']\n",
    "new_col = new_db[\"Students\"]\n",
    "list_of_students = [\n",
    "    { \"name\": \"Alice Johnson\", \"code\": \"stu001\" },\n",
    "    { \"name\": \"Bob Smith\", \"code\": \"stu002\" },\n",
    "    { \"name\": \"Catherine Davis\", \"code\": \"stu003\" },\n",
    "    { \"name\": \"David Brown\", \"code\": \"stu004\" },\n",
    "    { \"name\": \"Emma Wilson\", \"code\": \"stu005\" },\n",
    "    { \"name\": \"Franklin White\", \"code\": \"stu006\" }\n",
    "]\n",
    "adding_many = new_col.insert_many(list_of_students)\n"
   ]
  },
  {
   "cell_type": "code",
   "execution_count": 12,
   "id": "bb1dc1fd-8d8f-4387-9b7e-640b08cbe617",
   "metadata": {},
   "outputs": [
    {
     "name": "stdout",
     "output_type": "stream",
     "text": [
      "Inserted document IDs: [ObjectId('67751a8f4c119d1ef04fbbaf'), ObjectId('67751a8f4c119d1ef04fbbb0'), ObjectId('67751a8f4c119d1ef04fbbb1'), ObjectId('67751a8f4c119d1ef04fbbb2'), ObjectId('67751a8f4c119d1ef04fbbb3'), ObjectId('67751a8f4c119d1ef04fbbb4')]\n"
     ]
    }
   ],
   "source": [
    "print(\"Inserted document IDs:\", adding_many.inserted_ids)"
   ]
  },
  {
   "cell_type": "code",
   "execution_count": 14,
   "id": "090f5193-9928-44ec-aab8-04c744c0866d",
   "metadata": {},
   "outputs": [
    {
     "name": "stdout",
     "output_type": "stream",
     "text": [
      "[ObjectId('67751b824c119d1ef04fbbb6'), ObjectId('67751b824c119d1ef04fbbb7'), ObjectId('67751b824c119d1ef04fbbb8'), ObjectId('67751b824c119d1ef04fbbb9'), ObjectId('67751b824c119d1ef04fbbba'), ObjectId('67751b824c119d1ef04fbbbb')]\n"
     ]
    }
   ],
   "source": [
    "import pymongo\n",
    "\n",
    "new_client = pymongo.MongoClient('mongodb://localhost:27017/')\n",
    "\n",
    "new_db = new_client['new_data']\n",
    "\n",
    "new_col = new_db['new_students']\n",
    "\n",
    "list_of_students = [\n",
    "    { \"id\": 1, \"name\": \"Alice Johnson\", \"code\": \"stu001\" },\n",
    "    { \"id\": 2, \"name\": \"Bob Smith\", \"code\": \"stu002\" },\n",
    "    { \"id\": 3, \"name\": \"Catherine Davis\", \"code\": \"stu003\" },\n",
    "    { \"id\": 4, \"name\": \"David Brown\", \"code\": \"stu004\" },\n",
    "    { \"id\": 5, \"name\": \"Emma Wilson\", \"code\": \"stu005\" },\n",
    "    { \"id\": 6, \"name\": \"Franklin White\", \"code\": \"stu006\" }\n",
    "]\n",
    "\n",
    "\n",
    "adding_many = new_col.insert_many(list_of_students)\n",
    "\n",
    "print(adding_many.inserted_ids)"
   ]
  },
  {
   "cell_type": "code",
   "execution_count": 15,
   "id": "66c1de12-02be-4bf5-a8a4-fc46fd799f00",
   "metadata": {},
   "outputs": [
    {
     "name": "stdout",
     "output_type": "stream",
     "text": [
      "[1, 2, 3, 4, 5, 6]\n"
     ]
    }
   ],
   "source": [
    "import pymongo\n",
    "\n",
    "new_client = pymongo.MongoClient('mongodb://localhost:27017/')\n",
    "\n",
    "new_db = new_client['new_data']\n",
    "\n",
    "new_col = new_db['new_students1']\n",
    "\n",
    "list_of_students = [\n",
    "    { \"_id\": 1, \"name\": \"Alice Johnson\", \"code\": \"stu001\" },\n",
    "    { \"_id\": 2, \"name\": \"Bob Smith\", \"code\": \"stu002\" },\n",
    "    { \"_id\": 3, \"name\": \"Catherine Davis\", \"code\": \"stu003\" },\n",
    "    { \"_id\": 4, \"name\": \"David Brown\", \"code\": \"stu004\" },\n",
    "    { \"_id\": 5, \"name\": \"Emma Wilson\", \"code\": \"stu005\" },\n",
    "    { \"_id\": 6, \"name\": \"Franklin White\", \"code\": \"stu006\" }\n",
    "]\n",
    "\n",
    "\n",
    "adding_many = new_col.insert_many(list_of_students)\n",
    "\n",
    "print(adding_many.inserted_ids)"
   ]
  },
  {
   "cell_type": "code",
   "execution_count": 19,
   "id": "3fe89ca6-e597-47ae-94ca-39a0ab3acf92",
   "metadata": {},
   "outputs": [
    {
     "name": "stdout",
     "output_type": "stream",
     "text": [
      "{'_id': 1, 'name': 'Alice Johnson', 'code': 'stu001'}\n"
     ]
    }
   ],
   "source": [
    "finds = new_col.find_one()\n",
    "print(finds)"
   ]
  },
  {
   "cell_type": "code",
   "execution_count": 20,
   "id": "d3480756-633a-45ed-b647-27d054d56eec",
   "metadata": {},
   "outputs": [
    {
     "name": "stdout",
     "output_type": "stream",
     "text": [
      "{'_id': 5, 'name': 'Emma Wilson', 'code': 'stu005'}\n"
     ]
    }
   ],
   "source": [
    "finding = new_col.find_one({\"name\": \"Emma Wilson\"})\n",
    "print(finding)"
   ]
  },
  {
   "cell_type": "code",
   "execution_count": 22,
   "id": "2e25a044-ff43-41b2-aa8a-8c3ee18503ce",
   "metadata": {},
   "outputs": [
    {
     "name": "stdout",
     "output_type": "stream",
     "text": [
      "{'_id': 1, 'name': 'Alice Johnson', 'code': 'stu001'}\n",
      "{'_id': 2, 'name': 'Bob Smith', 'code': 'stu002'}\n",
      "{'_id': 3, 'name': 'Catherine Davis', 'code': 'stu003'}\n",
      "{'_id': 4, 'name': 'David Brown', 'code': 'stu004'}\n",
      "{'_id': 5, 'name': 'Emma Wilson', 'code': 'stu005'}\n",
      "{'_id': 6, 'name': 'Franklin White', 'code': 'stu006'}\n"
     ]
    }
   ],
   "source": [
    "all_students = new_col.find()\n",
    "for student in all_students:\n",
    "    print(student)"
   ]
  },
  {
   "cell_type": "code",
   "execution_count": 23,
   "id": "a04048f1-f3fd-429e-9e0b-86762abbc73b",
   "metadata": {},
   "outputs": [
    {
     "name": "stdout",
     "output_type": "stream",
     "text": [
      "{'_id': 1, 'name': 'Alice Johnson', 'code': 'stu001'}\n",
      "{'_id': 2, 'name': 'Bob Smith', 'code': 'stu002'}\n",
      "{'_id': 3, 'name': 'Catherine Davis', 'code': 'stu003'}\n",
      "{'_id': 4, 'name': 'David Brown', 'code': 'stu004'}\n",
      "{'_id': 5, 'name': 'Emma Wilson', 'code': 'stu005'}\n",
      "{'_id': 6, 'name': 'Franklin White', 'code': 'stu006'}\n"
     ]
    }
   ],
   "source": [
    "for docu in new_col.find():\n",
    "    print(docu)"
   ]
  },
  {
   "cell_type": "markdown",
   "id": "7290be2f-b1c5-4bce-81e8-3f006a44c574",
   "metadata": {},
   "source": [
    "# Creating a Query"
   ]
  },
  {
   "cell_type": "code",
   "execution_count": 24,
   "id": "55358da8-a69e-4aed-994b-ea1249a6f184",
   "metadata": {},
   "outputs": [
    {
     "name": "stdout",
     "output_type": "stream",
     "text": [
      "{'_id': ObjectId('67751b824c119d1ef04fbbb6'), 'id': 1, 'name': 'Alice Johnson', 'code': 'stu001'}\n",
      "{'_id': ObjectId('67751b824c119d1ef04fbbb7'), 'id': 2, 'name': 'Bob Smith', 'code': 'stu002'}\n",
      "{'_id': ObjectId('67751b824c119d1ef04fbbb8'), 'id': 3, 'name': 'Catherine Davis', 'code': 'stu003'}\n",
      "{'_id': ObjectId('67751b824c119d1ef04fbbb9'), 'id': 4, 'name': 'David Brown', 'code': 'stu004'}\n",
      "{'_id': ObjectId('67751b824c119d1ef04fbbba'), 'id': 5, 'name': 'Emma Wilson', 'code': 'stu005'}\n",
      "{'_id': ObjectId('67751b824c119d1ef04fbbbb'), 'id': 6, 'name': 'Franklin White', 'code': 'stu006'}\n"
     ]
    }
   ],
   "source": [
    "import pymongo\n",
    "\n",
    "new_client = pymongo.MongoClient('mongodb://localhost:27017/')\n",
    "\n",
    "new_db = new_client['new_data']\n",
    "\n",
    "new_col = new_db['new_students']\n",
    "\n",
    "new_query = { \"code\": {\"$gt\": \"code\"} }\n",
    "\n",
    "new_doc = new_col.find(new_query)\n",
    "\n",
    "for x in new_doc:\n",
    "  print(x)"
   ]
  },
  {
   "cell_type": "code",
   "execution_count": null,
   "id": "5e479efb-979b-45f4-bb0c-bc2d15418278",
   "metadata": {},
   "outputs": [],
   "source": [
    "\n"
   ]
  }
 ],
 "metadata": {
  "kernelspec": {
   "display_name": "mongoDB_env",
   "language": "python",
   "name": "mongodb_env"
  },
  "language_info": {
   "codemirror_mode": {
    "name": "ipython",
    "version": 3
   },
   "file_extension": ".py",
   "mimetype": "text/x-python",
   "name": "python",
   "nbconvert_exporter": "python",
   "pygments_lexer": "ipython3",
   "version": "3.11.11"
  }
 },
 "nbformat": 4,
 "nbformat_minor": 5
}
